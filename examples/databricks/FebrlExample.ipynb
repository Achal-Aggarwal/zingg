{
 "cells": [
  {
   "cell_type": "markdown",
   "metadata": {
    "application/vnd.databricks.v1+cell": {
     "cellMetadata": {
      "byteLimit": 2048000,
      "rowLimit": 10000
     },
     "inputWidgets": {},
     "nuid": "afec4ed8-c1f7-4535-8aff-c438a59f2fd4",
     "showTitle": false,
     "title": ""
    }
   },
   "source": [
    "# Demo Notebook For Training and Running Zingg Entity Resolution Workflow on Databricks\n",
    "This notebook runs the Zingg Febrl Example on Databricks. \n",
    "Please refer to the \n",
    "1. [Zingg Python API](https://readthedocs.org/projects/zingg/) \n",
    "2. [Zingg Official Documentation](https://www.docs.zingg.ai) \n",
    "for details.\n",
    "\n",
    "Please ensure your cluster has the following installed\n",
    "1. Zingg from pypi\n",
    "2. Zingg jar from the [repo](https://github.com/zinggAI/zingg/releases)\n",
    "3. tabulate from pypi\n",
    "\n",
    "Please execute each cell one by one as per the instructions provided.\n",
    "\n",
    "If you face any issue, please [log an issue](https://github.com/zinggAI/zingg/issues)\n",
    "\n",
    "You can also join [Zingg's Slack community](https://join.slack.com/t/zinggai/shared_invite/zt-w7zlcnol-vEuqU9m~Q56kLLUVxRgpOA)"
   ]
  },
  {
   "cell_type": "code",
   "execution_count": 0,
   "metadata": {
    "application/vnd.databricks.v1+cell": {
     "cellMetadata": {
      "byteLimit": 2048000,
      "rowLimit": 10000
     },
     "inputWidgets": {},
     "nuid": "b296c92c-a453-4012-a2b8-5cadb357bc1d",
     "showTitle": false,
     "title": ""
    }
   },
   "outputs": [
    {
     "output_type": "stream",
     "name": "stdout",
     "output_type": "stream",
     "text": [
      "Python interpreter will be restarted.\nRequirement already satisfied: zingg in /local_disk0/.ephemeral_nfs/cluster_libraries/python/lib/python3.9/site-packages (0.4.0)\nRequirement already satisfied: py4j==0.10.9 in /local_disk0/.ephemeral_nfs/cluster_libraries/python/lib/python3.9/site-packages (from zingg) (0.10.9)\nPython interpreter will be restarted.\n"
     ]
    }
   ],
   "source": [
    "pip install zingg"
   ]
  },
  {
   "cell_type": "code",
   "execution_count": 0,
   "metadata": {
    "application/vnd.databricks.v1+cell": {
     "cellMetadata": {
      "byteLimit": 2048000,
      "rowLimit": 10000
     },
     "inputWidgets": {},
     "nuid": "b7085240-3a7a-4618-8722-b5db097b96fe",
     "showTitle": false,
     "title": ""
    }
   },
   "outputs": [
    {
     "output_type": "stream",
     "name": "stdout",
     "output_type": "stream",
     "text": [
      "Name: zingg\nVersion: 0.4.0\nSummary: Zingg Entity Resolution, Data Mastering and Deduplication\nHome-page: https://github.com/zinggAI/zingg\nAuthor: Zingg.AI\nAuthor-email: sonalgoyal4@gmail.com\nLicense: https://github.com/zinggAI/zingg/blob/main/LICENSE\nLocation: /local_disk0/.ephemeral_nfs/cluster_libraries/python/lib/python3.9/site-packages\nRequires: py4j\nRequired-by: \n"
     ]
    }
   ],
   "source": [
    "pip show zingg"
   ]
  },
  {
   "cell_type": "code",
   "execution_count": 0,
   "metadata": {
    "application/vnd.databricks.v1+cell": {
     "cellMetadata": {
      "byteLimit": 2048000,
      "rowLimit": 10000
     },
     "inputWidgets": {},
     "nuid": "7bc6173c-6292-4e0e-b027-1a57736b9bc7",
     "showTitle": false,
     "title": ""
    }
   },
   "outputs": [
    {
     "output_type": "stream",
     "name": "stdout",
     "output_type": "stream",
     "text": [
      "Python interpreter will be restarted.\nRequirement already satisfied: tabulate in /databricks/python3/lib/python3.9/site-packages (0.8.9)\nPython interpreter will be restarted.\n"
     ]
    }
   ],
   "source": [
    "pip install tabulate"
   ]
  },
  {
   "cell_type": "code",
   "execution_count": 0,
   "metadata": {
    "application/vnd.databricks.v1+cell": {
     "cellMetadata": {
      "byteLimit": 2048000,
      "rowLimit": 10000
     },
     "inputWidgets": {},
     "nuid": "bddb54f2-2f4b-46df-b636-1f2a2ce31b71",
     "showTitle": false,
     "title": ""
    },
    "jupyter": {
     "outputs_hidden": true
    }
   },
   "outputs": [
    {
     "output_type": "stream",
     "name": "stdout",
     "output_type": "stream",
     "text": [
      "Name: tabulate\nVersion: 0.8.9\nSummary: Pretty-print tabular data\nHome-page: https://github.com/astanin/python-tabulate\nAuthor: Sergey Astanin\nAuthor-email: s.astanin@gmail.com\nLicense: MIT\nLocation: /databricks/python3/lib/python3.9/site-packages\nRequires: \nRequired-by: databricks-cli\n"
     ]
    }
   ],
   "source": [
    "pip show tabulate"
   ]
  },
  {
   "cell_type": "markdown",
   "metadata": {
    "application/vnd.databricks.v1+cell": {
     "cellMetadata": {
      "byteLimit": 2048000,
      "rowLimit": 10000
     },
     "inputWidgets": {},
     "nuid": "db2f411e-d207-4491-be56-dc0017ceed94",
     "showTitle": false,
     "title": ""
    }
   },
   "source": [
    "# Define locations for the model\n",
    "The Zingg models and training data are persisted in dbfs. \n",
    "\n",
    "**Please edit the model id in the cell below to reflect your model.**"
   ]
  },
  {
   "cell_type": "code",
   "execution_count": 0,
   "metadata": {
    "application/vnd.databricks.v1+cell": {
     "cellMetadata": {
      "byteLimit": 2048000,
      "rowLimit": 10000
     },
     "inputWidgets": {},
     "nuid": "f939d557-3988-443c-a489-c828a93476a4",
     "showTitle": false,
     "title": ""
    }
   },
   "outputs": [],
   "source": [
    "##you can change these to the locations of your choice\n",
    "##these are the only two settings that need to change\n",
    "zinggDir = \"/models\"\n",
    "modelId = \"databricksdemotrial\""
   ]
  },
  {
   "cell_type": "markdown",
   "metadata": {
    "application/vnd.databricks.v1+cell": {
     "cellMetadata": {
      "byteLimit": 2048000,
      "rowLimit": 10000
     },
     "inputWidgets": {},
     "nuid": "9332a078-f480-4972-ac23-22790f6aca20",
     "showTitle": false,
     "title": ""
    }
   },
   "source": [
    "# Setup common functions for use in Zingg. \n",
    "These functions setup the internal folders used by Zingg, and help with labeling and training Zingg. \n",
    "\n",
    "**No change is needed in the cell below.**"
   ]
  },
  {
   "cell_type": "code",
   "execution_count": 0,
   "metadata": {
    "application/vnd.databricks.v1+cell": {
     "cellMetadata": {
      "byteLimit": 2048000,
      "rowLimit": 10000
     },
     "inputWidgets": {},
     "nuid": "37674bf7-57cc-46b7-8052-1134d9b5c045",
     "showTitle": false,
     "title": ""
    }
   },
   "outputs": [
    {
     "output_type": "display_data",
     "data": {
      "application/vnd.databricks.v1+bamboolib_hint": "{\"pd.DataFrames\": [], \"version\": \"0.0.1\"}",
      "text/plain": []
     },
     "metadata": {},
     "output_type": "display_data"
    },
    {
     "output_type": "stream",
     "name": "stderr",
     "output_type": "stream",
     "text": [
      "/databricks/spark/python/pyspark/sql/context.py:117: FutureWarning: Deprecated in 3.0.0. Use SparkSession.builder.getOrCreate() instead.\n  warnings.warn(\n"
     ]
    }
   ],
   "source": [
    "\n",
    "##please leave the following unchanged\n",
    "MARKED_DIR = zinggDir + \"/\" + modelId + \"/trainingData/marked/\"\n",
    "UNMARKED_DIR = zinggDir + \"/\" + modelId + \"/trainingData/unmarked/\"\n",
    "\n",
    "MARKED_DIR_DBFS = \"/dbfs\" + MARKED_DIR\n",
    "UNMARKED_DIR_DBFS = \"/dbfs\" + UNMARKED_DIR  \n",
    "\n",
    "\n",
    "import pandas as pd\n",
    "import numpy as np\n",
    " \n",
    "import time\n",
    "import uuid\n",
    " \n",
    "from tabulate import tabulate\n",
    "from ipywidgets import widgets, interact, GridspecLayout\n",
    "import base64\n",
    "\n",
    "import pyspark.sql.functions as fn\n",
    "\n",
    "##this code sets up the Zingg Python interface\n",
    "from zingg.client import *\n",
    "from zingg.pipes import *\n",
    "\n",
    "def cleanModel():\n",
    "    dbutils.fs.rm(MARKED_DIR, recurse=True)\n",
    "    # drop unmarked data\n",
    "    dbutils.fs.rm(UNMARKED_DIR, recurse=True)\n",
    "    return\n",
    "\n",
    "# assign label to candidate pair\n",
    "def assign_label(candidate_pairs_pd, z_cluster, label):\n",
    "  '''\n",
    "  The purpose of this function is to assign a label to a candidate pair\n",
    "  identified by its z_cluster value.  Valid labels include:\n",
    "     0 - not matched\n",
    "     1 - matched\n",
    "     2 - uncertain\n",
    "  '''\n",
    "  \n",
    "  # assign label\n",
    "  candidate_pairs_pd.loc[ candidate_pairs_pd['z_cluster']==z_cluster, 'z_isMatch'] = label\n",
    "  \n",
    "  return\n",
    " \n",
    "def count_labeled_pairs(marked_pd):\n",
    "  '''\n",
    "  The purpose of this function is to count the labeled pairs in the marked folder.\n",
    "  '''\n",
    "\n",
    "  n_total = len(np.unique(marked_pd['z_cluster']))\n",
    "  n_positive = len(np.unique(marked_pd[marked_pd['z_isMatch']==1]['z_cluster']))\n",
    "  n_negative = len(np.unique(marked_pd[marked_pd['z_isMatch']==0]['z_cluster']))\n",
    "  \n",
    "  return n_positive, n_negative, n_total\n",
    "\n",
    "# setup widget \n",
    "available_labels = {\n",
    "    'No Match':0,\n",
    "    'Match':1,\n",
    "    'Uncertain':2\n",
    "    }\n",
    "#dbutils.widgets.dropdown('label', 'Uncertain', available_labels.keys(), 'Is this pair a match?')\n",
    "\n",
    "\n"
   ]
  },
  {
   "cell_type": "markdown",
   "metadata": {
    "application/vnd.databricks.v1+cell": {
     "cellMetadata": {
      "byteLimit": 2048000,
      "rowLimit": 10000
     },
     "inputWidgets": {},
     "nuid": "694c8a35-a8fc-48f2-8288-e803631fbfe6",
     "showTitle": false,
     "title": ""
    }
   },
   "source": [
    "# Start building the Zingg program \n",
    "The following cell sets up the initial arguments for Zingg. \n",
    "\n",
    "**No change is needed in the cell below.**"
   ]
  },
  {
   "cell_type": "code",
   "execution_count": 0,
   "metadata": {
    "application/vnd.databricks.v1+cell": {
     "cellMetadata": {
      "byteLimit": 2048000,
      "rowLimit": 10000
     },
     "inputWidgets": {},
     "nuid": "dcc668a0-3e96-4839-9f53-077f56dd25dc",
     "showTitle": false,
     "title": ""
    }
   },
   "outputs": [],
   "source": [
    "\n",
    "#build the arguments for zingg\n",
    "args = Arguments()\n",
    "# Set the modelid and the zingg dir. You can use this as is\n",
    "args.setModelId(modelId)\n",
    "args.setZinggDir(zinggDir)\n"
   ]
  },
  {
   "cell_type": "markdown",
   "metadata": {
    "application/vnd.databricks.v1+cell": {
     "cellMetadata": {
      "byteLimit": 2048000,
      "rowLimit": 10000
     },
     "inputWidgets": {},
     "nuid": "7b3eb8bd-d035-413b-84d0-b798e5909335",
     "showTitle": false,
     "title": ""
    }
   },
   "source": [
    "# Define the input\n",
    "Our data is in csv so we provide a schema. You can choose other formats like parquet by using Pipe with parquet as the format.\n",
    "You can also pass in a dataframe by using a Pipe with the in memory format. \n",
    "Please refer to [Pipes](https://zingg.readthedocs.io/en/latest/zingg.html#zingg.pipes.Pipe) for details on different formats\n",
    "\n",
    "**Please modify this for your data.**"
   ]
  },
  {
   "cell_type": "code",
   "execution_count": 0,
   "metadata": {
    "application/vnd.databricks.v1+cell": {
     "cellMetadata": {
      "byteLimit": 2048000,
      "rowLimit": 10000
     },
     "inputWidgets": {},
     "nuid": "1499f6f7-c9fa-4c95-bc39-7a945cf0758c",
     "showTitle": false,
     "title": ""
    }
   },
   "outputs": [
    {
     "output_type": "stream",
     "name": "stdout",
     "output_type": "stream",
     "text": [
      "set schema \n"
     ]
    }
   ],
   "source": [
    "schema = \"id string, fname string, lname string, stNo string, add1 string, add2 string, city string, state string, areacode string, dob string, ssn  string\"\n",
    "inputPipe = CsvPipe(\"testFebrl\", \"/FileStore/tables/test.csv\", schema)\n",
    "\n",
    "args.setData(inputPipe)"
   ]
  },
  {
   "cell_type": "markdown",
   "metadata": {
    "application/vnd.databricks.v1+cell": {
     "cellMetadata": {
      "byteLimit": 2048000,
      "rowLimit": 10000
     },
     "inputWidgets": {},
     "nuid": "c2c76f3d-6104-4014-b605-f0fe5bcc1650",
     "showTitle": false,
     "title": ""
    }
   },
   "source": [
    "# Configure the output\n",
    "Here we configure the putput to be a csv, but similar to the input above, the output can be a file format like parquet or delta or a data store like MySQL\n",
    "\n",
    "**Please modify this for your data.**"
   ]
  },
  {
   "cell_type": "code",
   "execution_count": 0,
   "metadata": {
    "application/vnd.databricks.v1+cell": {
     "cellMetadata": {
      "byteLimit": 2048000,
      "rowLimit": 10000
     },
     "inputWidgets": {},
     "nuid": "870e64cd-8053-4c76-bfba-3fe5af44adf4",
     "showTitle": false,
     "title": ""
    }
   },
   "outputs": [],
   "source": [
    "#setting outputpipe in 'args'\n",
    "outputPipe = CsvPipe(\"resultFebrl\", \"/tmp/febrlOutput\")\n",
    "args.setOutput(outputPipe)"
   ]
  },
  {
   "cell_type": "markdown",
   "metadata": {
    "application/vnd.databricks.v1+cell": {
     "cellMetadata": {
      "byteLimit": 2048000,
      "rowLimit": 10000
     },
     "inputWidgets": {},
     "nuid": "98e995ab-fd71-4848-8134-35fabf2ec8c7",
     "showTitle": false,
     "title": ""
    }
   },
   "source": [
    "# Define the match fields and their types\n",
    "\n",
    "The cell below is used to configure Zingg with the fields for use in matching and the match types.\n",
    "Details on the field definitions can be found at [Zingg official docs](https://www.docs.zingg.ai)\n",
    "\n",
    "**Please modify this for your data.**"
   ]
  },
  {
   "cell_type": "code",
   "execution_count": 0,
   "metadata": {
    "application/vnd.databricks.v1+cell": {
     "cellMetadata": {
      "byteLimit": 2048000,
      "rowLimit": 10000
     },
     "inputWidgets": {},
     "nuid": "3f6b3420-a841-4eb9-ae87-3e4d66af8ba4",
     "showTitle": false,
     "title": ""
    }
   },
   "outputs": [],
   "source": [
    "#set field definitions \n",
    "#please change these \n",
    "fname = FieldDefinition(\"fname\", \"string\", MatchType.FUZZY)\n",
    "lname = FieldDefinition(\"lname\", \"string\", MatchType.FUZZY)\n",
    "stNo = FieldDefinition(\"stNo\", \"string\", MatchType.FUZZY)\n",
    "add1 = FieldDefinition(\"add1\",\"string\", MatchType.FUZZY)\n",
    "add2 = FieldDefinition(\"add2\", \"string\", MatchType.FUZZY)\n",
    "city = FieldDefinition(\"city\", \"string\", MatchType.FUZZY)\n",
    "areacode = FieldDefinition(\"areacode\", \"string\", MatchType.FUZZY)\n",
    "state = FieldDefinition(\"state\", \"string\", MatchType.FUZZY)\n",
    "dob = FieldDefinition(\"dob\", \"string\", MatchType.FUZZY)\n",
    "ssn = FieldDefinition(\"ssn\", \"string\", MatchType.FUZZY)\n",
    "\n",
    "fieldDefs = [fname, lname, stNo, add1, add2, city, areacode, state, dob, ssn]\n",
    "args.setFieldDefinition(fieldDefs)\n",
    "\n"
   ]
  },
  {
   "cell_type": "markdown",
   "metadata": {
    "application/vnd.databricks.v1+cell": {
     "cellMetadata": {
      "byteLimit": 2048000,
      "rowLimit": 10000
     },
     "inputWidgets": {},
     "nuid": "5cecfe15-fe77-4ef3-bde4-818350c0e0bf",
     "showTitle": false,
     "title": ""
    }
   },
   "source": [
    "# Performance settings\n",
    "\n",
    "The numPartitions define how data is split across the cluster. Please change this as per your data and cluster size by referring to the performance section of the Zingg docs.\n",
    "The labelDataSampleSize is used for sampling in findTrainingData. It lets Zingg select pairs for labeling in a reasonable amount of time. \n",
    "If the findTrainingData phase is taking to much time, please reduce this by atleast 1/10th of its previous value and try again.\n",
    "\n",
    "**Please modify this for your data.**"
   ]
  },
  {
   "cell_type": "code",
   "execution_count": 0,
   "metadata": {
    "application/vnd.databricks.v1+cell": {
     "cellMetadata": {
      "byteLimit": 2048000,
      "rowLimit": 10000
     },
     "inputWidgets": {},
     "nuid": "7841d2ef-c067-45bd-9522-6f318958ed56",
     "showTitle": false,
     "title": ""
    }
   },
   "outputs": [],
   "source": [
    "\n",
    "# The numPartitions define how data is split across the cluster. \n",
    "# Please change the fllowing as per your data and cluster size by referring to the docs.\n",
    "\n",
    "args.setNumPartitions(4)\n",
    "args.setLabelDataSampleSize(0.5)\n",
    "\n"
   ]
  },
  {
   "cell_type": "markdown",
   "metadata": {
    "application/vnd.databricks.v1+cell": {
     "cellMetadata": {
      "byteLimit": 2048000,
      "rowLimit": 10000
     },
     "inputWidgets": {},
     "nuid": "241243b3-1536-467d-89a6-80698e8c57ec",
     "showTitle": false,
     "title": ""
    }
   },
   "source": [
    "# Get Zingg to find pairs for user labeling\n",
    "**No change is needed in the cell below.**"
   ]
  },
  {
   "cell_type": "code",
   "execution_count": 0,
   "metadata": {
    "application/vnd.databricks.v1+cell": {
     "cellMetadata": {
      "byteLimit": 2048000,
      "rowLimit": 10000
     },
     "inputWidgets": {},
     "nuid": "9747d72e-3330-4b7c-9e60-0e91684eaa3f",
     "showTitle": false,
     "title": ""
    }
   },
   "outputs": [
    {
     "output_type": "stream",
     "name": "stdout",
     "output_type": "stream",
     "text": [
      "['--phase', 'findTrainingData']\narguments for client options are  ['--phase', 'findTrainingData', '--license', 'zinggLic.txt', '--email', 'zingg@zingg.ai', '--conf', 'dummyConf.json']\n"
     ]
    }
   ],
   "source": [
    "options = ClientOptions([ClientOptions.PHASE,\"findTrainingData\"])\n",
    "\n",
    "#Zingg execution for the given phase\n",
    "zingg = ZinggWithSpark(args, options)\n",
    "zingg.initAndExecute()"
   ]
  },
  {
   "cell_type": "markdown",
   "metadata": {
    "application/vnd.databricks.v1+cell": {
     "cellMetadata": {},
     "inputWidgets": {},
     "nuid": "ca70c641-196a-4d17-b14d-43e551aa12c3",
     "showTitle": false,
     "title": ""
    }
   },
   "source": [
    "# Prepare for user labeling\n",
    "**No change is needed in the cell below.**"
   ]
  },
  {
   "cell_type": "code",
   "execution_count": 0,
   "metadata": {
    "application/vnd.databricks.v1+cell": {
     "cellMetadata": {
      "byteLimit": 2048000,
      "rowLimit": 10000
     },
     "inputWidgets": {},
     "nuid": "25077a5c-1a23-4110-ac7f-819765047839",
     "showTitle": false,
     "title": ""
    }
   },
   "outputs": [
    {
     "output_type": "stream",
     "name": "stdout",
     "output_type": "stream",
     "text": [
      "['--phase', 'label']\narguments for client options are  ['--phase', 'label', '--license', 'zinggLic.txt', '--email', 'zingg@zingg.ai', '--conf', 'dummyConf.json']\n"
     ]
    }
   ],
   "source": [
    "options = ClientOptions([ClientOptions.PHASE,\"label\"])\n",
    "\n",
    "#Zingg execution for the given phase\n",
    "zingg = ZinggWithSpark(args, options)\n",
    "zingg.init()"
   ]
  },
  {
   "cell_type": "markdown",
   "metadata": {
    "application/vnd.databricks.v1+cell": {
     "cellMetadata": {},
     "inputWidgets": {},
     "nuid": "25156ca6-6fe9-4223-b35b-182c371e9c89",
     "showTitle": false,
     "title": ""
    }
   },
   "source": [
    "# See if we have records for labeling\n",
    "\n",
    "**No change is needed to the cell below.**"
   ]
  },
  {
   "cell_type": "code",
   "execution_count": 0,
   "metadata": {
    "application/vnd.databricks.v1+cell": {
     "cellMetadata": {
      "byteLimit": 2048000,
      "rowLimit": 10000
     },
     "inputWidgets": {},
     "nuid": "4039051c-1d31-4373-8d53-3955e76b5bba",
     "showTitle": false,
     "title": ""
    }
   },
   "outputs": [
    {
     "output_type": "stream",
     "name": "stderr",
     "output_type": "stream",
     "text": [
      "/databricks/spark/python/pyspark/sql/dataframe.py:149: UserWarning: DataFrame constructor is internal. Do not directly use it.\n  warnings.warn(\"DataFrame constructor is internal. Do not directly use it.\")\n"
     ]
    },
    {
     "output_type": "stream",
     "name": "stdout",
     "output_type": "stream",
     "text": [
      "20 candidate pairs found for labeling\n"
     ]
    }
   ],
   "source": [
    "# get candidate pairs\n",
    "candidate_pairs_pd = getPandasDfFromDs(zingg.getUnmarkedRecords())\n",
    " \n",
    "# if no candidate pairs, run job and wait\n",
    "if candidate_pairs_pd.shape[0] == 0:\n",
    "  print('No unlabeled candidate pairs found.  Run findTraining job ...')\n",
    "\n",
    "else:\n",
    "    # get list of pairs (as identified by z_cluster) to label \n",
    "    z_clusters = list(np.unique(candidate_pairs_pd['z_cluster'])) \n",
    "\n",
    "    # identify last reviewed cluster\n",
    "    last_z_cluster = '' # none yet\n",
    "\n",
    "    # print candidate pair stats\n",
    "    print('{0} candidate pairs found for labeling'.format(len(z_clusters)))\n",
    "  "
   ]
  },
  {
   "cell_type": "markdown",
   "metadata": {
    "application/vnd.databricks.v1+cell": {
     "cellMetadata": {},
     "inputWidgets": {},
     "nuid": "5b061b19-c2c2-44c8-bc10-716283c48098",
     "showTitle": false,
     "title": ""
    }
   },
   "source": [
    "# Start labeling to make Zingg learn how we want to match our data\n",
    "\n",
    "**No change is needed to the cell below.**"
   ]
  },
  {
   "cell_type": "code",
   "execution_count": 0,
   "metadata": {
    "application/vnd.databricks.v1+cell": {
     "cellMetadata": {
      "byteLimit": 2048000,
      "rowLimit": 10000
     },
     "inputWidgets": {},
     "nuid": "1d8e5ecf-99dd-4ee1-9dee-5336a27e5746",
     "showTitle": false,
     "title": ""
    }
   },
   "outputs": [
    {
     "output_type": "stream",
     "name": "stdout",
     "output_type": "stream",
     "text": [
      "    z_zid         z_cluster  z_prediction  ...       dob      ssn  z_zsource\n0      37   1701239388135:0           1.0  ...  19280722  7626396  testFebrl\n1      36   1701239388135:0           1.0  ...  19280722  7626396  testFebrl\n2      30   1701239388135:1           0.0  ...  19191031  7801066  testFebrl\n3      18   1701239388135:1           0.0  ...  19461101  4783085  testFebrl\n4      16  1701239388135:10           1.0  ...  19180205  1909717  testFebrl\n5      15  1701239388135:10           1.0  ...  19180205  9341716  testFebrl\n6      59  1701239388135:11           0.0  ...  19670206  9724789  testFebrl\n7       8  1701239388135:11           0.0  ...  19410111  2540080  testFebrl\n8      47  1701239388135:12           1.0  ...  19250817  2655081  testFebrl\n9      46  1701239388135:12           1.0  ...  19250817  2655081  testFebrl\n10     49  1701239388135:13           0.0  ...  19050820  3677127  testFebrl\n11      0  1701239388135:13           0.0  ...  19271027  2402765  testFebrl\n12     49  1701239388135:14           1.0  ...  19050820  3677127  testFebrl\n13     48  1701239388135:14           1.0  ...  19050820  3677127  testFebrl\n14     25  1701239388135:15           0.0  ...  19210210  3808808  testFebrl\n15      0  1701239388135:15           0.0  ...  19271027  2402765  testFebrl\n16     52  1701239388135:16           1.0  ...  19801119  2563135  testFebrl\n17     50  1701239388135:16           1.0  ...  19801119  2536135  testFebrl\n18     48  1701239388135:17           0.0  ...  19050820  3677127  testFebrl\n19      0  1701239388135:17           0.0  ...  19271027  2402765  testFebrl\n20     53  1701239388135:18           1.0  ...  19801119  2563135  testFebrl\n21     50  1701239388135:18           1.0  ...  19801119  2536135  testFebrl\n22     47  1701239388135:19           0.0  ...  19250817  2655081  testFebrl\n23     43  1701239388135:19           0.0  ...  19510806  3710651  testFebrl\n24      7   1701239388135:2           1.0  ...  19830807  2932837  testFebrl\n25      5   1701239388135:2           1.0  ...  19830807  2932837  testFebrl\n26     31   1701239388135:3           0.0  ...  19191031  7801066  testFebrl\n27     18   1701239388135:3           0.0  ...  19461101  4783085  testFebrl\n28     64   1701239388135:4           1.0  ...  19030926  8190756  testFebrl\n29     60   1701239388135:4           1.0  ...  19030926  8190756  testFebrl\n30     57   1701239388135:5           0.0  ...  19801125  3328205  testFebrl\n31     30   1701239388135:5           0.0  ...  19191031  7801066  testFebrl\n32     61   1701239388135:6           1.0  ...  19030926  8190756  testFebrl\n33     60   1701239388135:6           1.0  ...  19030926  8190756  testFebrl\n34     57   1701239388135:7           0.0  ...  19801125  3328205  testFebrl\n35     31   1701239388135:7           0.0  ...  19191031  7801066  testFebrl\n36     17   1701239388135:8           1.0  ...  19180205  9341716  testFebrl\n37     16   1701239388135:8           1.0  ...  19180205  1909717  testFebrl\n38     46   1701239388135:9           0.0  ...  19250817  2655081  testFebrl\n39     43   1701239388135:9           0.0  ...  19510806  3710651  testFebrl\n\n[40 rows x 16 columns]\n['1701239388135:0', ' jaiden', ' rollins', '95', ' rossarden street', ' tulgewyood', ' balwyn north', ' nt', '2224', '19280722', '7626396']\n['1701239388135:0', ' jaiden', ' rollins', '48', ' tulgeywood', ' rossarden street', ' balwyn north', ' nt', '2224', '19280722', '7626396']\n['1701239388135:1', ' keziah', ' painter', '18', ' ainsli e avenue', ' sec 1', ' torquay', ' vic', '3205', '19191031', '7801066']\n['1701239388135:1', ' kylee', ' stepehndon', '81', ' rose scott circuit', ' cordobak anor', ' ashfield', ' vic', '4226', '19461101', '4783085']\n['1701239388135:10', ' ', ' eglinton', '24', ' curriecrescent', ' woorinyan', ' riverwood', ' qld', '3749', '19180205', '1909717']\n['1701239388135:10', ' ', ' ', '24', ' ', ' woorinyan', ' riverwood', ' qld', '3749', '19180205', '9341716']\n['1701239388135:11', ' giorgia', ' frahn', '62', ' handasyde street', ' ramano estate locn 1', ' tallebudgera', ' vic', '4506', '19670206', '9724789']\n['1701239388135:11', ' gianni', ' matson', '701', ' willis street', ' boonooloo', ' clifton', ' vic', '3101', '19410111', '2540080']\n['1701239388135:12', ' angus', ' rosa', '62', ' gormanston crescent', ' mlc centre', ' kirwan', ' sa', '3350', '19250817', '2655081']\n['1701239388135:12', ' angus', ' roas', '62', ' gormansto crescent', ' mlc centre', ' kiruwah', ' sa', '3350', '19250817', '2655081']\n['1701239388135:13', ' benjamin', ' carbone', '18', ' wattle street', ' arthella', ' orange', ' vic', '3550', '19050820', '3677127']\n['1701239388135:13', ' blake', ' ryan', '4', ' starling place', ' berkeley vlge', ' marsden', ' nsw', '5412', '19271027', '2402765']\n['1701239388135:14', ' benjamin', ' carbone', '18', ' wattle street', ' arthella', ' orange', ' vic', '3550', '19050820', '3677127']\n['1701239388135:14', ' benjaminl', ' carbone', '18', ' arthella', ' wattle s treet', ' orange', ' vic', '3550', '19050820', '3677127']\n['1701239388135:15', ' briony', ' koerbin', '146', ' violet grover place', ' wybelanah', ' mill park', ' nsw', '2446', '19210210', '3808808']\n['1701239388135:15', ' blake', ' ryan', '4', ' starling place', ' berkeley vlge', ' marsden', ' nsw', '5412', '19271027', '2402765']\n['1701239388135:16', ' matilda', ' mestrov', '5', ' house circuit', ' retiremen tvillage', ' taringa', ' ', '3820', '19801119', '2563135']\n['1701239388135:16', ' matilda', ' mestrov', ' ', ' housecicuit', ' retirement village', ' taringa', ' qld', '3820', '19801119', '2536135']\n['1701239388135:17', ' benjaminl', ' carbone', '18', ' arthella', ' wattle s treet', ' orange', ' vic', '3550', '19050820', '3677127']\n['1701239388135:17', ' blake', ' ryan', '4', ' starling place', ' berkeley vlge', ' marsden', ' nsw', '5412', '19271027', '2402765']\n['1701239388135:18', ' matilda', ' mestrov', '5', ' house circuit', ' retirement village', ' taringa', ' qld', '3820', '19801119', '2563135']\n['1701239388135:18', ' matilda', ' mestrov', ' ', ' housecicuit', ' retirement village', ' taringa', ' qld', '3820', '19801119', '2536135']\n['1701239388135:19', ' angus', ' rosa', '62', ' gormanston crescent', ' mlc centre', ' kirwan', ' sa', '3350', '19250817', '2655081']\n['1701239388135:19', ' amber', ' held', '24', ' lampard circuit', ' emerald garden', ' golden bay', ' vic', '2447', '19510806', '3710651']\n['1701239388135:2', ' jackson', ' eglinton', '840', ' fowles street', ' mountview', ' burleigh heads', ' sa', '2830', '19830807', '2932837']\n['1701239388135:2', ' jackson', ' christo', '840', ' fowles street', ' mou ntveiw', ' burleig heads', ' sa', '2830', '19830807', '2932837']\n['1701239388135:3', ' keziah', ' painter', '18', ' ainslie avenue', ' sec 1', ' torquay', ' vic', '3205', '19191031', '7801066']\n['1701239388135:3', ' kylee', ' stepehndon', '81', ' rose scott circuit', ' cordobak anor', ' ashfield', ' vic', '4226', '19461101', '4783085']\n['1701239388135:4', ' nicole', ' carbone', '46', ' schlich street', ' simpson army barracks', ' toowoomba', ' wa', '3000', '19030926', '8190756']\n['1701239388135:4', ' nicole', ' shadbolt', '46', ' schlich s treet', ' simpson army barracks', ' toowoomba', ' wa', '3000', '19030926', '8190756']\n['1701239388135:5', ' kiandra', ' cowle', '2', ' gatliff place', ' rustenubr g sth', ' girgarre', ' qld', '3995', '19801125', '3328205']\n['1701239388135:5', ' keziah', ' painter', '18', ' ainsli e avenue', ' sec 1', ' torquay', ' vic', '3205', '19191031', '7801066']\n['1701239388135:6', ' nicole', ' carbone', '46', ' schlich nstreet', ' simpson army barracks', ' toowoomba', ' wa', '3000', '19030926', '8190756']\n['1701239388135:6', ' nicole', ' shadbolt', '46', ' schlich s treet', ' simpson army barracks', ' toowoomba', ' wa', '3000', '19030926', '8190756']\n['1701239388135:7', ' kiandra', ' cowle', '2', ' gatliff place', ' rustenubr g sth', ' girgarre', ' qld', '3995', '19801125', '3328205']\n['1701239388135:7', ' keziah', ' painter', '18', ' ainslie avenue', ' sec 1', ' torquay', ' vic', '3205', '19191031', '7801066']\n['1701239388135:8', ' ', ' eglinton', '24', ' currie crescent', ' woorinyan', ' riverwood', ' qld', '3749', '19180205', '9341716']\n['1701239388135:8', ' ', ' eglinton', '24', ' curriecrescent', ' woorinyan', ' riverwood', ' qld', '3749', '19180205', '1909717']\n['1701239388135:9', ' angus', ' roas', '62', ' gormansto crescent', ' mlc centre', ' kiruwah', ' sa', '3350', '19250817', '2655081']\n['1701239388135:9', ' amber', ' held', '24', ' lampard circuit', ' emerald garden', ' golden bay', ' vic', '2447', '19510806', '3710651']\n"
     ]
    },
    {
     "output_type": "display_data",
     "data": {
      "application/vnd.jupyter.widget-view+json": {
       "model_id": "01a9f5cdc1844189ad31986e474828c1",
       "version_major": 2,
       "version_minor": 0
      },
      "text/plain": [
       "VBox(children=(HTML(value='<h2>Indicate if each of the 20 record pairs is a match or not</h2></p>'), VBox(chil…"
      ]
     },
     "metadata": {},
     "output_type": "display_data"
    }
   ],
   "source": [
    "# Label Training Set\n",
    "\n",
    "# define variable to avoid duplicate saves\n",
    "ready_for_save = False\n",
    "print(candidate_pairs_pd)\n",
    "\n",
    "# user-friendly labels and corresponding zingg numerical value\n",
    "# (the order in the dictionary affects how displayed below)\n",
    "LABELS = {\n",
    "  'Uncertain':2,\n",
    "  'Match':1,\n",
    "  'No Match':0  \n",
    "  }\n",
    "\n",
    "# GET CANDIDATE PAIRS\n",
    "# ========================================================\n",
    "#candidate_pairs_pd = get_candidate_pairs()\n",
    "n_pairs = int(candidate_pairs_pd.shape[0]/2)\n",
    "# ========================================================\n",
    "\n",
    "# DEFINE IPYWIDGET DISPLAY\n",
    "# ========================================================\n",
    "display_pd = candidate_pairs_pd.drop(\n",
    "  labels=[\n",
    "    'z_zid', 'z_prediction', 'z_score', 'z_isMatch', 'z_zsource'\n",
    "    ], \n",
    "  axis=1)\n",
    "\n",
    "# define header to be used with each displayed pair\n",
    "html_prefix = \"<p><span style='font-family:Courier New,Courier,monospace'>\"\n",
    "html_suffix = \"</p></span>\"\n",
    "header = widgets.HTML(value=f\"{html_prefix}<b>\" + \"<br />\".join([str(i)+\"&nbsp;&nbsp;\" for i in display_pd.columns.to_list()]) + f\"</b>{html_suffix}\")\n",
    "\n",
    "# initialize display\n",
    "vContainers = []\n",
    "vContainers.append(widgets.HTML(value=f'<h2>Indicate if each of the {n_pairs} record pairs is a match or not</h2></p>'))\n",
    "\n",
    "# for each set of pairs\n",
    "for n in range(n_pairs):\n",
    "\n",
    "  # get candidate records\n",
    "  candidate_left = display_pd.loc[2*n].to_list()\n",
    "  print(candidate_left)\n",
    "  candidate_right = display_pd.loc[(2*n)+1].to_list()\n",
    "  print(candidate_right)\n",
    "\n",
    "  # define grid to hold values\n",
    "  html = ''\n",
    "\n",
    "  for i in range(display_pd.shape[1]):\n",
    "\n",
    "    # get column name\n",
    "    column_name = display_pd.columns[i]\n",
    "\n",
    "    # if field is image\n",
    "    if column_name == 'image_path':\n",
    "\n",
    "      # define row header\n",
    "      html += '<tr>'\n",
    "      html += '<td><b>image</b></td>'\n",
    "\n",
    "      # read left image to encoded string\n",
    "      l_endcode = ''\n",
    "      if candidate_left[i] != '':\n",
    "        with open(candidate_left[i], \"rb\") as l_file:\n",
    "          l_encode = base64.b64encode( l_file.read() ).decode()\n",
    "\n",
    "      # read right image to encoded string\n",
    "      r_encode = ''\n",
    "      if candidate_right[i] != '':\n",
    "        with open(candidate_right[i], \"rb\") as r_file:\n",
    "          r_encode = base64.b64encode( r_file.read() ).decode()      \n",
    "\n",
    "      # present images\n",
    "      html += f'<td><img src=\"data:image/png;base64,{l_encode}\"></td>'\n",
    "      html += f'<td><img src=\"data:image/png;base64,{r_encode}\"></td>'\n",
    "      html += '</tr>'\n",
    "\n",
    "    elif column_name != 'image_path':  # display text values\n",
    "\n",
    "      if column_name == 'z_cluster': z_cluster = candidate_left[i]\n",
    "\n",
    "      html += '<tr>'\n",
    "      html += f'<td style=\"width:10%\"><b>{column_name}</b></td>'\n",
    "      html += f'<td style=\"width:45%\">{str(candidate_left[i])}</td>'\n",
    "      html += f'<td style=\"width:45%\">{str(candidate_right[i])}</td>'\n",
    "      html += '</tr>'\n",
    "\n",
    "  # insert data table\n",
    "  table = widgets.HTML(value=f'<table data-title=\"{z_cluster}\" style=\"width:100%;border-collapse:collapse\" border=\"1\">'+html+'</table>')\n",
    "  z_cluster = None\n",
    "\n",
    "  # assign label options to pair\n",
    "  label = widgets.ToggleButtons(\n",
    "    options=LABELS.keys(), \n",
    "    button_style='info'\n",
    "    )\n",
    "\n",
    "  # define blank line between displayed pair and next\n",
    "  blankLine=widgets.HTML(value='<br>')\n",
    "\n",
    "  # append pair, label and blank line to widget structure\n",
    "  vContainers.append(widgets.VBox(children=[table, label, blankLine]))\n",
    "\n",
    "# present widget\n",
    "display(widgets.VBox(children=vContainers))\n",
    "# ========================================================\n",
    "\n",
    "# mark flag to allow save \n",
    "ready_for_save = True\n"
   ]
  },
  {
   "cell_type": "markdown",
   "metadata": {
    "application/vnd.databricks.v1+cell": {
     "cellMetadata": {},
     "inputWidgets": {},
     "nuid": "a9d4a8fd-3ec8-40f9-86ed-4a58cb65d13d",
     "showTitle": false,
     "title": ""
    }
   },
   "source": [
    "# Save all the labels provided by the user \n",
    "No change is needed to the cell below."
   ]
  },
  {
   "cell_type": "code",
   "execution_count": 0,
   "metadata": {
    "application/vnd.databricks.v1+cell": {
     "cellMetadata": {
      "byteLimit": 2048000,
      "rowLimit": 10000
     },
     "inputWidgets": {},
     "nuid": "c420e4b2-d221-46d4-8242-5044becb8d7e",
     "showTitle": false,
     "title": ""
    }
   },
   "outputs": [
    {
     "output_type": "stream",
     "name": "stdout",
     "output_type": "stream",
     "text": [
      "You have accumulated 12 pairs labeled as positive matches.\nYou have accumulated 12 pairs labeled as not matches.\nIf you need more pairs to label, re-run the cell for 'findTrainingData'\n"
     ]
    },
    {
     "output_type": "stream",
     "name": "stderr",
     "output_type": "stream",
     "text": [
      "/databricks/spark/python/pyspark/sql/dataframe.py:149: UserWarning: DataFrame constructor is internal. Do not directly use it.\n  warnings.warn(\"DataFrame constructor is internal. Do not directly use it.\")\n"
     ]
    }
   ],
   "source": [
    "if not ready_for_save:\n",
    "  print('No labels have been assigned. Run the previous cell to create candidate pairs and assign labels to them before re-running this cell.')\n",
    "\n",
    "else:\n",
    "\n",
    "  # ASSIGN LABEL VALUE TO CANDIDATE PAIRS IN DATAFRAME\n",
    "  # ========================================================\n",
    "  # for each pair in displayed widget\n",
    "  for pair in vContainers[1:]:\n",
    "\n",
    "    # get pair and assigned label\n",
    "    html_content = pair.children[1].get_interact_value() # the displayed pair as html\n",
    "    user_assigned_label = pair.children[1].get_interact_value() # the assigned label\n",
    "\n",
    "    # extract candidate pair id from html pair content\n",
    "    start = pair.children[0].value.find('data-title=\"')\n",
    "    if start > 0: \n",
    "      start += len('data-title=\"') \n",
    "      end = pair.children[0].value.find('\"', start+2)\n",
    "    pair_id = pair.children[0].value[start:end]\n",
    "\n",
    "\n",
    "\n",
    "    # assign label to candidate pair entry in dataframe\n",
    "    candidate_pairs_pd.loc[candidate_pairs_pd['z_cluster']==pair_id, 'z_isMatch'] = LABELS.get(user_assigned_label)\n",
    "  # ========================================================\n",
    "\n",
    "  # SAVE LABELED DATA TO ZINGG FOLDER\n",
    "  # ========================================================\n",
    "  # make target directory if needed\n",
    "  dbutils.fs.mkdirs(MARKED_DIR)\n",
    "\n",
    "  # save label assignments\n",
    "  # save labels\n",
    "  zingg.writeLabelledOutputFromPandas(candidate_pairs_pd,args)\n",
    "\n",
    "  # count labels accumulated\n",
    "  marked_pd_df = getPandasDfFromDs(zingg.getMarkedRecords())\n",
    "  n_pos, n_neg, n_tot = count_labeled_pairs(marked_pd_df)\n",
    "  print(f'You have accumulated {n_pos} pairs labeled as positive matches.')\n",
    "  print(f'You have accumulated {n_neg} pairs labeled as not matches.')\n",
    "  print(\"If you need more pairs to label, re-run the cell for 'findTrainingData'\")\n",
    "  # ========================================================  \n",
    "\n",
    "  # save completed\n",
    "  ready_for_save = False"
   ]
  },
  {
   "cell_type": "markdown",
   "metadata": {
    "application/vnd.databricks.v1+cell": {
     "cellMetadata": {},
     "inputWidgets": {},
     "nuid": "4c6a7266-658c-4705-9a49-2bb99dcadfe9",
     "showTitle": false,
     "title": ""
    }
   },
   "source": [
    "# Persist the Zingg models by training on the labels and run them to predict matches\n",
    "No change is needed to the cell below."
   ]
  },
  {
   "cell_type": "code",
   "execution_count": 0,
   "metadata": {
    "application/vnd.databricks.v1+cell": {
     "cellMetadata": {
      "byteLimit": 2048000,
      "rowLimit": 10000
     },
     "inputWidgets": {},
     "nuid": "eea6f5f8-12a3-4fbf-be9b-828dbc0e4e62",
     "showTitle": false,
     "title": ""
    }
   },
   "outputs": [
    {
     "output_type": "stream",
     "name": "stdout",
     "output_type": "stream",
     "text": [
      "['--phase', 'trainMatch']\narguments for client options are  ['--phase', 'trainMatch', '--license', 'zinggLic.txt', '--email', 'zingg@zingg.ai', '--conf', 'dummyConf.json']\n"
     ]
    }
   ],
   "source": [
    "options = ClientOptions([ClientOptions.PHASE,\"trainMatch\"])\n",
    "\n",
    "#Zingg execution for the given phase\n",
    "zingg = ZinggWithSpark(args, options)\n",
    "zingg.initAndExecute()"
   ]
  },
  {
   "cell_type": "markdown",
   "metadata": {
    "application/vnd.databricks.v1+cell": {
     "cellMetadata": {},
     "inputWidgets": {},
     "nuid": "d15cba22-baa5-4632-9902-39f8ff7bcabb",
     "showTitle": false,
     "title": ""
    }
   },
   "source": [
    "# Voila! We are done. Lets check the results. \n",
    "\n",
    "**No change is needed to the cell below.**"
   ]
  },
  {
   "cell_type": "code",
   "execution_count": 0,
   "metadata": {
    "application/vnd.databricks.v1+cell": {
     "cellMetadata": {
      "byteLimit": 2048000,
      "rowLimit": 10000
     },
     "inputWidgets": {},
     "nuid": "535490e1-a62d-4efb-a2c8-91cf3dcd31ba",
     "showTitle": false,
     "title": ""
    }
   },
   "outputs": [],
   "source": [
    "outputDF = spark.read.csv('/tmp/febrlOutput')"
   ]
  },
  {
   "cell_type": "code",
   "execution_count": 0,
   "metadata": {
    "application/vnd.databricks.v1+cell": {
     "cellMetadata": {
      "byteLimit": 2048000,
      "rowLimit": 10000
     },
     "inputWidgets": {},
     "nuid": "ce5516ed-ee36-4007-89b5-e54d488fed9b",
     "showTitle": false,
     "title": ""
    }
   },
   "outputs": [
    {
     "output_type": "stream",
     "name": "stdout",
     "output_type": "stream",
     "text": [
      "+------------------+------------------+---------+---------+-------------+----+-------------------+--------------------+----------------+--------+-----+--------+-------+\n|        z_minScore|        z_maxScore|z_cluster|    fname|        lname|stNo|               add1|                add2|            city|areacode|state|     dob|    ssn|\n+------------------+------------------+---------+---------+-------------+----+-------------------+--------------------+----------------+--------+-----+--------+-------+\n|0.9999999999186376|0.9999999999186376|        1|   thomas|       george|   1|      mcmanus place|        stoney creek|north turramurra|      sa| 3130|19630225|5460534|\n|0.9999877574360159|0.9999877574360159|        3|     Érik|         Guay| 840|      fowles street|         moun tvjiew|  burleigh heads|      ss| 2830|    null|2932837|\n|0.9999997560138284|0.9999998455488001|        5|  jackson|      christo| 840|      fowles street|          mou ntveiw|   burleig heads|      sa| 2830|19830807|2932837|\n|              null|              null|        8|   gianni|       matson| 701|      willis street|           boonooloo|         clifton|     vic| 3101|19410111|2540080|\n|0.9999999997642891| 0.999999999941606|       11|     xani|        green|   2|     phillip avenue|         abbey green|        armidale|     nsw| 5108|19390410|9201857|\n| 0.999999974744846|0.9999999999966902|       15|     null|         null|  24|               null|           woorinyan|       riverwood|     qld| 3749|19180205|9341716|\n|              null|              null|       19|   sachin|   stephenson|  81| rose scott circuit|       cordoba manor|       ashfi eld|     vic| 4226|19461101|4783085|\n|0.9999990753958321|0.9999999990862393|       18|    kylee|   stephenson|  81| rose scott circuit|       cordoba manor|        ashfield|     vic| 4226|19461101|4783085|\n|0.9989714423401491|0.9989714423401491|       24|   briony|      koerbin| 146|violet grover place|           wybelanah|       mill park|     nsw| 2446|19210210|3808808|\n|              null|              null|       26|     emma|     crossman|  53|     mcdowall place|           kellhaven|            tara|     vic| 5608|19391027|3561186|\n|0.9999999999941671|0.9999999999941671|       28| brooklyn|naar-cafentas| 210|       duffy street|        tourist psrk|         berwick|     nsw| 2481|    null|3624304|\n|0.9999999999941671|0.9999999999941671|       28| brooklyn|naar-cafentas| 210|       duffy street|        tourist park|         berwick|     nsw| 2481|19840802|3624304|\n|0.9999999999796465|0.9999999999796465|       30|   keziah|      painter|  18|    ainsli e avenue|               sec 1|         torquay|     vic| 3205|19191031|7801066|\n|0.9999999999796465|0.9999999999796465|       30|   keziah|      painter|  18|     ainslie avenue|               sec 1|         torquay|     vic| 3205|19191031|7801066|\n|0.9982139314327534|0.9999636635468766|       32|     erin|      maynard|  51|    wilshire street|            warialda|    little irver|     vic| 2777|19970430|1815999|\n|              null|              null|       34|   hayley|      maynard|  14|    wilshire street|                null|    little river|     vic| 2777|19970430|7429462|\n|              null|              null|       42|   sarsha|         held|  42|    lampard circuit|                null|      golden bay|     vic| 2447|19510806|3710651|\n| 0.999999996623574| 0.999999996623574|       48|benjaminl|      carbone|  18|           arthella|      wattle s treet|          orange|     vic| 3550|19050820|3677127|\n|0.9999999991450294|0.9999999991450294|       54|    tyler|        frojd|null|  burramurra avenue|       kmart p plaza|        san rmeo|      sa| 3670|19800916|7812219|\n|0.9999999483807158|0.9999999999841995|       60|   nicole|      carbone|  46|    schlich nstreet|simpson army barr...|       toowoomba|      wa| 3000|19030926|8190756|\n|0.9999966729121871|0.9999999997372474|       60|   nicole|      carbone|  46|     schlich street|simpson arm ybarr...|         toowong|      wa| 3000|19030926|8190756|\n|0.9999999999178806|0.9999999999178806|        1|   thomas|       george|   1|      mcmanus place|        stoney creek|north turramurra|      sa| 3130|19630225|5460534|\n|0.9999879660593812|0.9999879660593812|        3|     Érik|         Guay| 840|      fowles street|         moun tvjiew|  burleigh heads|      ss| 2830|    null|2932837|\n|0.9999997593429388|0.9999998471909275|        5|  jackson|      christo| 840|      fowles street|          mou ntveiw|   burleig heads|      sa| 2830|19830807|2932837|\n|              null|              null|        8|   gianni|       matson| 701|      willis street|           boonooloo|         clifton|     vic| 3101|19410111|2540080|\n|  0.99999999976221|0.9999999999404711|       11|     xani|        green|   2|     phillip avenue|         abbey green|        armidale|     nsw| 5108|19390410|9201857|\n|0.9999999742098629|0.9999999999966328|       15|     null|         null|  24|               null|           woorinyan|       riverwood|     qld| 3749|19180205|9341716|\n|              null|              null|       19|   sachin|   stephenson|  81| rose scott circuit|       cordoba manor|       ashfi eld|     vic| 4226|19461101|4783085|\n|0.9999990711198549|0.9999999990901691|       18|    kylee|   stephenson|  81| rose scott circuit|       cordoba manor|        ashfield|     vic| 4226|19461101|4783085|\n|0.9989757346524352|0.9989757346524352|       24|   briony|      koerbin| 146|violet grover place|           wybelanah|       mill park|     nsw| 2446|19210210|3808808|\n|              null|              null|       26|     emma|     crossman|  53|     mcdowall place|           kellhaven|            tara|     vic| 5608|19391027|3561186|\n|0.9999999999940862|0.9999999999940862|       28| brooklyn|naar-cafentas| 210|       duffy street|        tourist psrk|         berwick|     nsw| 2481|    null|3624304|\n|0.9999999999940862|0.9999999999940862|       28| brooklyn|naar-cafentas| 210|       duffy street|        tourist park|         berwick|     nsw| 2481|19840802|3624304|\n|0.9999999999795731|0.9999999999795731|       30|   keziah|      painter|  18|    ainsli e avenue|               sec 1|         torquay|     vic| 3205|19191031|7801066|\n|0.9999999999795731|0.9999999999795731|       30|   keziah|      painter|  18|     ainslie avenue|               sec 1|         torquay|     vic| 3205|19191031|7801066|\n|0.9982186309296486|0.9999633624976049|       32|     erin|      maynard|  51|    wilshire street|            warialda|    little irver|     vic| 2777|19970430|1815999|\n|              null|              null|       34|   hayley|      maynard|  14|    wilshire street|                null|    little river|     vic| 2777|19970430|7429462|\n|              null|              null|       42|   sarsha|         held|  42|    lampard circuit|                null|      golden bay|     vic| 2447|19510806|3710651|\n| 0.999999996706862| 0.999999996706862|       48|benjaminl|      carbone|  18|           arthella|      wattle s treet|          orange|     vic| 3550|19050820|3677127|\n|0.9999999991407398|0.9999999991407398|       54|    tyler|        frojd|null|  burramurra avenue|       kmart p plaza|        san rmeo|      sa| 3670|19800916|7812219|\n|0.9999999486937632|0.9999999999841143|       60|   nicole|      carbone|  46|    schlich nstreet|simpson army barr...|       toowoomba|      wa| 3000|19030926|8190756|\n|0.9999967205676822|0.9999999997349232|       60|   nicole|      carbone|  46|     schlich street|simpson arm ybarr...|         toowong|      wa| 3000|19030926|8190756|\n|0.9970730967555984|0.9970730967555984|        1|   thomas|       george|   1|      mcmanus place|        stoney creek|north turramurra|      sa| 3130|19630225|5460534|\n|0.8241452015902073|0.8241452015902073|        3|     Érik|         Guay| 840|      fowles street|         moun tvjiew|  burleigh heads|      ss| 2830|    null|2932837|\n|0.9950904269847992|0.9958267984739926|        5|  jackson|      christo| 840|      fowles street|          mou ntveiw|   burleig heads|      sa| 2830|19830807|2932837|\n|              null|              null|        8|   gianni|       matson| 701|      willis street|           boonooloo|         clifton|     vic| 3101|19410111|2540080|\n|0.9966147895335838|0.9975857936667586|       11|     xani|        green|   2|     phillip avenue|         abbey green|        armidale|     nsw| 5108|19390410|9201857|\n|0.9953664767007168|0.9983203462574148|       15|     null|         null|  24|               null|           woorinyan|       riverwood|     qld| 3749|19180205|9341716|\n|              null|              null|       19|   sachin|   stephenson|  81| rose scott circuit|       cordoba manor|       ashfi eld|     vic| 4226|19461101|4783085|\n|0.9890608522996144|0.9975003288215899|       18|    kylee|   stephenson|  81| rose scott circuit|       cordoba manor|        ashfield|     vic| 4226|19461101|4783085|\n|              null|              null|       25|   briony|      koerbin| 146|violet grover place|           wybelanah|       mill park|     nsw| 2446|19210210|3808808|\n|              null|              null|       26|     emma|     crossman|  53|     mcdowall place|           kellhaven|            tara|     vic| 5608|19391027|3561186|\n|0.9980049573375565|0.9980049573375565|       28| brooklyn|naar-cafentas| 210|       duffy street|        tourist psrk|         berwick|     nsw| 2481|    null|3624304|\n|0.9980049573375565|0.9980049573375565|       28| brooklyn|naar-cafentas| 210|       duffy street|        tourist park|         berwick|     nsw| 2481|19840802|3624304|\n|0.9974245535059925|0.9974245535059925|       30|   keziah|      painter|  18|    ainsli e avenue|               sec 1|         torquay|     vic| 3205|19191031|7801066|\n|0.9974245535059925|0.9974245535059925|       30|   keziah|      painter|  18|     ainslie avenue|               sec 1|         torquay|     vic| 3205|19191031|7801066|\n|0.9547023842982995|0.9809742994223918|       32|     erin|      maynard|  51|    wilshire street|            warialda|    little irver|     vic| 2777|19970430|1815999|\n|              null|              null|       34|   hayley|      maynard|  14|    wilshire street|                null|    little river|     vic| 2777|19970430|7429462|\n|              null|              null|       42|   sarsha|         held|  42|    lampard circuit|                null|      golden bay|     vic| 2447|19510806|3710651|\n|0.9867431455369954|0.9867431455369954|       48|benjaminl|      carbone|  18|           arthella|      wattle s treet|          orange|     vic| 3550|19050820|3677127|\n|0.9962774741084517|0.9962774741084517|       54|    tyler|        frojd|null|  burramurra avenue|       kmart p plaza|        san rmeo|      sa| 3670|19800916|7812219|\n|0.9900455494319644| 0.997768250973193|       60|   nicole|      carbone|  46|    schlich nstreet|simpson army barr...|       toowoomba|      wa| 3000|19030926|8190756|\n|0.9882962336445338|0.9926737073585263|       60|   nicole|      carbone|  46|     schlich street|simpson arm ybarr...|         toowong|      wa| 3000|19030926|8190756|\n|              null|              null|       14|   nathan|  smallacombe|  20| guthridge crescent|     red cross units|       sandy bay|      sa| 6056|19241223|7522263|\n|0.9999999677510187|0.9999999742098629|       15|     null|     eglinton|  24|     curriecrescent|           woorinyan|       riverwood|     qld| 3749|19180205|1909717|\n|0.9999999677510187|0.9999999999966328|       15|     null|     eglinton|  24|    currie crescent|           woorinyan|       riverwood|     qld| 3749|19180205|9341716|\n|0.9999990711198549|0.9999999990901691|       18|    kylee|   stepehndon|  81| rose scott circuit|       cordobak anor|        ashfield|     vic| 4226|19461101|4783085|\n|0.9989757346524352|0.9989757346524352|       24| benjamin|      koerbin|  15|         wybel anah| violet grover place|       mill park|     nsw| 2446|19210210|3808808|\n|              null|              null|       27| samantha|     sabieray|  68|    quandong street|         wattle brae|         gorokan|      wa| 4019|19590807|2863290|\n|0.9999633624976049|0.9999999997302617|       32|     erin|      maynard|  14|    wilshire street|            warialda|    little river|     vic| 2777|19970430|7429462|\n|0.9999973069439371|0.9999999994163289|       36|   jaiden|      rolilns|  48|     swinden street|          tulgeywood|    balwyn north|      nt| 2224|19280722|7626396|\n|              null|              null|       44|   connor|     beckwith|  10|       heard street|                null|       mill park|     nsw| 5031|19081103|2209091|\n|0.9999999855642471|0.9999999855642471|       46|    angus|         roas|  62| gormansto crescent|          mlc centre|         kiruwah|      sa| 3350|19250817|2655081|\n|0.9999999231147038|0.9999999994479495|       50|  matilda|      mestrov|null|        housecicuit|  retirement village|         taringa|     qld| 3820|19801119|2536135|\n|0.9999999991407398|0.9999999991407398|       54|    tyler|        froud|   8|  burramurra avenue|       kmart p plaza|        san remo|      sa| 3670|19800916|7812219|\n|0.9999999999748165|0.9999999999894499|       56|  kiandra|        cowle|   2|      gatliff place|     rustenubr g sth|        girgarre|     qld| 3995|19801125|3328205|\n|0.9999967205676822|0.9999999486937632|       60|   nicole|     shadbolt|  46|    schlich s treet|simpson army barr...|       toowoomba|      wa| 3000|19030926|8190756|\n|0.9999996186396809|0.9999999999943585|       60|   nicole|      carbone|  46|     schlich street| simpsonary barracks|       toowoomba|      wa| 3000|19030926|8190756|\n|0.9999999191798842|0.9999999999943585|       60|   nicole|      carbone|  46|     schlich street|simpson army barr...|       toowoomba|      wa| 3000|19030926|8190756|\n|              null|              null|       14|   nathan|  smallacombe|  20| guthridge crescent|     red cross units|       sandy bay|      sa| 6056|19241223|7522263|\n|0.9999999683677884| 0.999999974744846|       15|     null|     eglinton|  24|     curriecrescent|           woorinyan|       riverwood|     qld| 3749|19180205|1909717|\n|0.9999999683677884|0.9999999999966902|       15|     null|     eglinton|  24|    currie crescent|           woorinyan|       riverwood|     qld| 3749|19180205|9341716|\n|0.9999990753958321|0.9999999990862393|       18|    kylee|   stepehndon|  81| rose scott circuit|       cordobak anor|        ashfield|     vic| 4226|19461101|4783085|\n|0.9989714423401491|0.9989714423401491|       24| benjamin|      koerbin|  15|         wybel anah| violet grover place|       mill park|     nsw| 2446|19210210|3808808|\n|              null|              null|       27| samantha|     sabieray|  68|    quandong street|         wattle brae|         gorokan|      wa| 4019|19590807|2863290|\n|0.9999636635468766|0.9999999997311102|       32|     erin|      maynard|  14|    wilshire street|            warialda|    little river|     vic| 2777|19970430|7429462|\n|0.9999972163010848|0.9999999994131586|       36|   jaiden|      rolilns|  48|     swinden street|          tulgeywood|    balwyn north|      nt| 2224|19280722|7626396|\n|              null|              null|       44|   connor|     beckwith|  10|       heard street|                null|       mill park|     nsw| 5031|19081103|2209091|\n|0.9999999855119502|0.9999999855119502|       46|    angus|         roas|  62| gormansto crescent|          mlc centre|         kiruwah|      sa| 3350|19250817|2655081|\n|0.9999999251043543| 0.999999999457873|       50|  matilda|      mestrov|null|        housecicuit|  retirement village|         taringa|     qld| 3820|19801119|2536135|\n|0.9999999991450294|0.9999999991450294|       54|    tyler|        froud|   8|  burramurra avenue|       kmart p plaza|        san remo|      sa| 3670|19800916|7812219|\n|0.9999999999748609|0.9999999999895465|       56|  kiandra|        cowle|   2|      gatliff place|     rustenubr g sth|        girgarre|     qld| 3995|19801125|3328205|\n|0.9999966729121871|0.9999999483807158|       60|   nicole|     shadbolt|  46|    schlich s treet|simpson army barr...|       toowoomba|      wa| 3000|19030926|8190756|\n|0.9999996107618545|0.9999999999944398|       60|   nicole|      carbone|  46|     schlich street| simpsonary barracks|       toowoomba|      wa| 3000|19030926|8190756|\n| 0.999999918416298|0.9999999999944398|       60|   nicole|      carbone|  46|     schlich street|simpson army barr...|       toowoomba|      wa| 3000|19030926|8190756|\n|              null|              null|       14|   nathan|  smallacombe|  20| guthridge crescent|     red cross units|       sandy bay|      sa| 6056|19241223|7522263|\n|0.9950542627712594|0.9953664767007168|       15|     null|     eglinton|  24|     curriecrescent|           woorinyan|       riverwood|     qld| 3749|19180205|1909717|\n|0.9950542627712594|0.9983203462574148|       15|     null|     eglinton|  24|    currie crescent|           woorinyan|       riverwood|     qld| 3749|19180205|9341716|\n|0.9878874074544092|0.9975003288215899|       18|    kylee|   stepehndon|  81| rose scott circuit|       cordobak anor|        ashfield|     vic| 4226|19461101|4783085|\n|              null|              null|       24| benjamin|      koerbin|  15|         wybel anah| violet grover place|       mill park|     nsw| 2446|19210210|3808808|\n+------------------+------------------+---------+---------+-------------+----+-------------------+--------------------+----------------+--------+-----+--------+-------+\nonly showing top 100 rows\n\n"
     ]
    }
   ],
   "source": [
    "\n",
    "colNames = [\"z_minScore\", \"z_maxScore\", \"z_cluster\",\"fname\", \"lname\", \"stNo\", \"add1\", \"add2\", \"city\", \"areacode\", \"state\", \"dob\", \"ssn\"]\n",
    "outputDF.toDF(*colNames).show(100)"
   ]
  },
  {
   "cell_type": "code",
   "execution_count": 0,
   "metadata": {
    "application/vnd.databricks.v1+cell": {
     "cellMetadata": {},
     "inputWidgets": {},
     "nuid": "cbd44d6b-fc9a-4505-a47a-8b862ac2e701",
     "showTitle": false,
     "title": ""
    }
   },
   "outputs": [],
   "source": []
  }
 ],
 "metadata": {
  "application/vnd.databricks.v1+notebook": {
   "dashboards": [],
   "language": "python",
   "notebookMetadata": {
    "pythonIndentUnit": 4
   },
   "notebookName": "FebrlDemo",
   "widgets": {
    "label": {
     "currentValue": "No Match",
     "nuid": "19cad016-97e3-4a78-898c-1bb583bf20da",
     "widgetInfo": {
      "widgetType": "dropdown",
      "defaultValue": "Uncertain",
      "label": "Is this pair a match?",
      "name": "label",
      "options": {
       "widgetType": "dropdown",
       "choices": [
        "No Match",
        "Match",
        "Uncertain"
       ]
      }
     }
    }
   }
  }
 },
 "nbformat": 4,
 "nbformat_minor": 0
}
